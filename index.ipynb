{
 "cells": [
  {
   "cell_type": "markdown",
   "metadata": {
    "toc": true
   },
   "source": [
    "<h1>Table of Contents<span class=\"tocSkip\"></span></h1>\n",
    "<div class=\"toc\"><ul class=\"toc-item\"><li><span><a href=\"#Object-Initialization---Lab\" data-toc-modified-id=\"Object-Initialization---Lab-1\"><span class=\"toc-item-num\">1&nbsp;&nbsp;</span>Object Initialization - Lab</a></span><ul class=\"toc-item\"><li><span><a href=\"#Introduction\" data-toc-modified-id=\"Introduction-1.1\"><span class=\"toc-item-num\">1.1&nbsp;&nbsp;</span>Introduction</a></span></li><li><span><a href=\"#Objectives\" data-toc-modified-id=\"Objectives-1.2\"><span class=\"toc-item-num\">1.2&nbsp;&nbsp;</span>Objectives</a></span></li><li><span><a href=\"#Initializing-Instance-Objects\" data-toc-modified-id=\"Initializing-Instance-Objects-1.3\"><span class=\"toc-item-num\">1.3&nbsp;&nbsp;</span>Initializing Instance Objects</a></span></li><li><span><a href=\"#Summary\" data-toc-modified-id=\"Summary-1.4\"><span class=\"toc-item-num\">1.4&nbsp;&nbsp;</span>Summary</a></span></li></ul></li></ul></div>"
   ]
  },
  {
   "cell_type": "markdown",
   "metadata": {},
   "source": [
    "# Object Initialization - Lab"
   ]
  },
  {
   "cell_type": "markdown",
   "metadata": {},
   "source": [
    "## Introduction\n",
    "In this lab, you'll practice defining classes with `__init__` methods. You'll define two classes, `Driver` and `Passenger` in the cells below. "
   ]
  },
  {
   "cell_type": "markdown",
   "metadata": {},
   "source": [
    "## Objectives\n",
    "\n",
    "In this lab you will:\n",
    "\n",
    "* Create instance variables in the `__init__` method\n",
    "* Use default arguments in the `__init__` method  "
   ]
  },
  {
   "cell_type": "markdown",
   "metadata": {},
   "source": [
    "## Initializing Instance Objects"
   ]
  },
  {
   "cell_type": "markdown",
   "metadata": {},
   "source": [
    "Start off by defining the `Driver` class, similar to as you've done before. This time, define an `__init__` method that initializes a driver with the attributes `first`, `last`, and `occupation` for their first name, last name, and occupation. Provide a default argument of `\"driver\"` for `occupation`."
   ]
  },
  {
   "cell_type": "code",
   "execution_count": 2,
   "metadata": {
    "ExecuteTime": {
     "end_time": "2019-12-30T10:26:11.788227Z",
     "start_time": "2019-12-30T10:26:11.775311Z"
    },
    "collapsed": true
   },
   "outputs": [],
   "source": [
    "# Define Driver class here\n",
    "class Driver():\n",
    "    \n",
    "    def __init__(self, first, last, occupation = 'driver'):\n",
    "        self.first = first\n",
    "        self.last = last\n",
    "        self.occupation = occupation"
   ]
  },
  {
   "cell_type": "markdown",
   "metadata": {},
   "source": [
    "Now, initialize a driver with the first name `\"Dale\"` and last name `\"Earnhardt\"`.\n",
    "\n",
    "<img src=\"images/dale.gif\" width=\"500\">\n",
    "\n",
    "gif from [Nascar](https://giphy.com/nascar)"
   ]
  },
  {
   "cell_type": "code",
   "execution_count": 4,
   "metadata": {
    "ExecuteTime": {
     "end_time": "2019-12-30T10:26:40.850322Z",
     "start_time": "2019-12-30T10:26:40.833434Z"
    },
    "scrolled": true
   },
   "outputs": [
    {
     "name": "stdout",
     "output_type": "stream",
     "text": [
      "Dale\n",
      "Earnhardt\n",
      "driver\n"
     ]
    }
   ],
   "source": [
    "dale_earnhardt = Driver('Dale', 'Earnhardt') # Initialize Dale Earnhardt here\n",
    "print(dale_earnhardt.first) # \"Dale\"\n",
    "print(dale_earnhardt.last) # \"Earnhardt\"\n",
    "print(dale_earnhardt.occupation) # \"driving\""
   ]
  },
  {
   "cell_type": "markdown",
   "metadata": {},
   "source": [
    "Next, define the `Passenger` class. Using the `__init__` method, ensure all instances contain the attributes `first`, `last`, `email`, and `rides_taken` for their first name, last name, email, and number of rides they have taken. Provide the `__init__` method with the default argument of `0` for the `rides_taken` attribute since new passengers should not have taken any rides. "
   ]
  },
  {
   "cell_type": "code",
   "execution_count": 8,
   "metadata": {
    "ExecuteTime": {
     "end_time": "2019-12-30T10:33:31.428076Z",
     "start_time": "2019-12-30T10:33:31.408765Z"
    }
   },
   "outputs": [],
   "source": [
    "# Define Passenger class here\n",
    "class Passenger():\n",
    "    def __init__ (self, first, last, email, rides_taken = 0):\n",
    "        self.first = first\n",
    "        self.last = last\n",
    "        self.email = email\n",
    "        self.rides_taken = rides_taken"
   ]
  },
  {
   "cell_type": "markdown",
   "metadata": {},
   "source": [
    "Now that you've defined a `Passenger` class, check it out by initializing a new passenger with the first name `\"Jerry\"`, the last name `\"Seinfeld\"`, and the email `\"jerry.seinfeld@mailinator.com\"`."
   ]
  },
  {
   "cell_type": "code",
   "execution_count": 9,
   "metadata": {
    "ExecuteTime": {
     "end_time": "2019-12-30T10:33:35.476088Z",
     "start_time": "2019-12-30T10:33:35.458344Z"
    }
   },
   "outputs": [
    {
     "name": "stdout",
     "output_type": "stream",
     "text": [
      "Jerry\n",
      "Seinfeld\n",
      "jerry.seinfeld@mailinator.com\n",
      "0\n"
     ]
    }
   ],
   "source": [
    "jerry = Passenger('Jerry', 'Seinfeld', 'jerry.seinfeld@mailinator.com') # Initialize Mr. Seinfeld here\n",
    "print(jerry.first) # \"Jerry\"\n",
    "print(jerry.last) # \"Seinfeld\"\n",
    "print(jerry.email) # \"jerry.seinfeld@mailinator.com\"\n",
    "print(jerry.rides_taken) # 0"
   ]
  },
  {
   "cell_type": "markdown",
   "metadata": {},
   "source": [
    "Great work! Mr. Seinfeld is now in the system and ready to request a ride!"
   ]
  },
  {
   "cell_type": "markdown",
   "metadata": {},
   "source": [
    "## Summary\n"
   ]
  },
  {
   "cell_type": "markdown",
   "metadata": {},
   "source": [
    "In this lab, you defined `__init__` methods that allowed you to initialize new instances with a set of predetermined attributes and default attributes."
   ]
  }
 ],
 "metadata": {
  "kernelspec": {
   "display_name": "Python 3",
   "language": "python",
   "name": "python3"
  },
  "toc": {
   "base_numbering": 1,
   "nav_menu": {},
   "number_sections": true,
   "sideBar": true,
   "skip_h1_title": false,
   "title_cell": "Table of Contents",
   "title_sidebar": "Contents",
   "toc_cell": true,
   "toc_position": {},
   "toc_section_display": true,
   "toc_window_display": true
  },
  "varInspector": {
   "cols": {
    "lenName": 16,
    "lenType": 16,
    "lenVar": 40
   },
   "kernels_config": {
    "python": {
     "delete_cmd_postfix": "",
     "delete_cmd_prefix": "del ",
     "library": "var_list.py",
     "varRefreshCmd": "print(var_dic_list())"
    },
    "r": {
     "delete_cmd_postfix": ") ",
     "delete_cmd_prefix": "rm(",
     "library": "var_list.r",
     "varRefreshCmd": "cat(var_dic_list()) "
    }
   },
   "types_to_exclude": [
    "module",
    "function",
    "builtin_function_or_method",
    "instance",
    "_Feature"
   ],
   "window_display": true
  }
 },
 "nbformat": 4,
 "nbformat_minor": 2
}
